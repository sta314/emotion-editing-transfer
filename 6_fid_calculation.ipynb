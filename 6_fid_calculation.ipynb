{
 "cells": [
  {
   "cell_type": "code",
   "execution_count": 1,
   "metadata": {},
   "outputs": [],
   "source": [
    "from cleanfid import fid"
   ]
  },
  {
   "cell_type": "code",
   "execution_count": 12,
   "metadata": {},
   "outputs": [
    {
     "name": "stdout",
     "output_type": "stream",
     "text": [
      "Found 3958 images in the folder datasets/celeba_hq_aligned\n"
     ]
    },
    {
     "name": "stderr",
     "output_type": "stream",
     "text": [
      "custom stats: celeba_hq_aligned : 100%|██████████| 62/62 [02:36<00:00,  2.52s/it]\n"
     ]
    },
    {
     "name": "stdout",
     "output_type": "stream",
     "text": [
      "saving custom FID stats to c:\\Users\\Stamina\\AppData\\Local\\Programs\\Python\\Python310\\lib\\site-packages\\cleanfid\\stats\\celeba_val_clean_custom_na.npz\n",
      "saving custom KID stats to c:\\Users\\Stamina\\AppData\\Local\\Programs\\Python\\Python310\\lib\\site-packages\\cleanfid\\stats\\celeba_val_clean_custom_na_kid.npz\n"
     ]
    }
   ],
   "source": [
    "# Calculate stats for transfer target set\n",
    "\n",
    "fid.make_custom_stats('celeba_val', 'datasets/celeba_hq_aligned', mode=\"clean\")"
   ]
  },
  {
   "cell_type": "code",
   "execution_count": 14,
   "metadata": {},
   "outputs": [
    {
     "name": "stdout",
     "output_type": "stream",
     "text": [
      "FID score using method hyperstyle for emotion anger is 36.38531621859218\n",
      "FID score using method hyperstyle for emotion contempt is 36.92628738937117\n",
      "FID score using method hyperstyle for emotion default is 22.55817692001125\n",
      "FID score using method hyperstyle for emotion disgust is 35.86832006217071\n",
      "FID score using method hyperstyle for emotion fear is 36.38312288028129\n",
      "FID score using method hyperstyle for emotion happiness is 34.34819677922218\n",
      "FID score using method hyperstyle for emotion neutral is 36.214883374459504\n",
      "FID score using method hyperstyle for emotion sadness is 37.336653935728634\n",
      "FID score using method hyperstyle for emotion surprise is 35.20236649139889\n",
      "FID score using method pSp for emotion anger is 37.59014646971747\n",
      "FID score using method pSp for emotion contempt is 39.99934492680819\n",
      "FID score using method pSp for emotion default is 26.045494915018395\n",
      "FID score using method pSp for emotion disgust is 39.156067401847224\n",
      "FID score using method pSp for emotion fear is 35.2437851024913\n",
      "FID score using method pSp for emotion happiness is 41.131737236460026\n",
      "FID score using method pSp for emotion neutral is 39.738892058608144\n",
      "FID score using method pSp for emotion sadness is 34.87519854579551\n",
      "FID score using method pSp for emotion surprise is 34.752734992846115\n"
     ]
    }
   ],
   "source": [
    "# Calculate fid for each configuration\n",
    "\n",
    "from glob import glob\n",
    "config_dirs = glob(\"quant_experiments/transfer/*/*/\", recursive = True)\n",
    "\n",
    "for config_dir in config_dirs:\n",
    "    inversion_method = config_dir.split('\\\\')[1]\n",
    "    emotion = config_dir.split('\\\\')[2]\n",
    "    score = fid.compute_fid(config_dir, dataset_name='celeba_val', mode=\"clean\", dataset_split=\"custom\", num_workers=0, verbose=False)\n",
    "    print(f'FID score using method {inversion_method} for emotion {emotion} is {score}')"
   ]
  },
  {
   "cell_type": "code",
   "execution_count": 2,
   "metadata": {},
   "outputs": [
    {
     "name": "stdout",
     "output_type": "stream",
     "text": [
      "compute FID between two folders\n",
      "Found 3958 images in the folder datasets/celeba_hq_aligned\n"
     ]
    },
    {
     "name": "stderr",
     "output_type": "stream",
     "text": [
      "FID celeba_hq_aligned : 100%|██████████| 124/124 [02:29<00:00,  1.21s/it]\n"
     ]
    },
    {
     "name": "stdout",
     "output_type": "stream",
     "text": [
      "Found 3958 images in the folder quant_experiments/transfer/pSp/default\n"
     ]
    },
    {
     "name": "stderr",
     "output_type": "stream",
     "text": [
      "FID default : 100%|██████████| 124/124 [02:17<00:00,  1.11s/it]\n"
     ]
    },
    {
     "name": "stdout",
     "output_type": "stream",
     "text": [
      "26.032982435612467\n"
     ]
    }
   ],
   "source": [
    "score = fid.compute_fid('datasets/celeba_hq_aligned', 'quant_experiments/transfer/pSp/default', mode=\"clean\", num_workers=0)\n",
    "print(score)"
   ]
  },
  {
   "cell_type": "code",
   "execution_count": 2,
   "metadata": {},
   "outputs": [
    {
     "name": "stdout",
     "output_type": "stream",
     "text": [
      "compute FID between two folders\n",
      "Found 3958 images in the folder datasets/celeba_hq_aligned\n"
     ]
    },
    {
     "name": "stderr",
     "output_type": "stream",
     "text": [
      "FID celeba_hq_aligned : 100%|██████████| 124/124 [02:27<00:00,  1.19s/it]\n"
     ]
    },
    {
     "name": "stdout",
     "output_type": "stream",
     "text": [
      "Found 3958 images in the folder quant_experiments/transfer/pSp/happiness\n"
     ]
    },
    {
     "name": "stderr",
     "output_type": "stream",
     "text": [
      "FID happiness : 100%|██████████| 124/124 [02:17<00:00,  1.11s/it]\n"
     ]
    },
    {
     "name": "stdout",
     "output_type": "stream",
     "text": [
      "41.12028694457388\n"
     ]
    }
   ],
   "source": [
    "score = fid.compute_fid('datasets/celeba_hq_aligned', 'quant_experiments/transfer/pSp/happiness', mode=\"clean\", num_workers=0)\n",
    "print(score)"
   ]
  },
  {
   "cell_type": "code",
   "execution_count": 3,
   "metadata": {},
   "outputs": [
    {
     "name": "stdout",
     "output_type": "stream",
     "text": [
      "compute FID between two folders\n",
      "Found 3958 images in the folder datasets/celeba_hq_aligned\n"
     ]
    },
    {
     "name": "stderr",
     "output_type": "stream",
     "text": [
      "FID celeba_hq_aligned : 100%|██████████| 124/124 [02:27<00:00,  1.19s/it]\n"
     ]
    },
    {
     "name": "stdout",
     "output_type": "stream",
     "text": [
      "Found 3958 images in the folder quant_experiments/transfer/pSp/anger\n"
     ]
    },
    {
     "name": "stderr",
     "output_type": "stream",
     "text": [
      "FID anger : 100%|██████████| 124/124 [02:35<00:00,  1.26s/it]\n"
     ]
    },
    {
     "name": "stdout",
     "output_type": "stream",
     "text": [
      "37.579912815960085\n"
     ]
    }
   ],
   "source": [
    "score = fid.compute_fid('datasets/celeba_hq_aligned', 'quant_experiments/transfer/pSp/anger', mode=\"clean\", num_workers=0)\n",
    "print(score)"
   ]
  },
  {
   "cell_type": "code",
   "execution_count": 11,
   "metadata": {},
   "outputs": [
    {
     "data": {
      "text/plain": [
       "['hyperstyle', 'anger']"
      ]
     },
     "execution_count": 11,
     "metadata": {},
     "output_type": "execute_result"
    }
   ],
   "source": [
    "from glob import glob\n",
    "glob(\"quant_experiments/transfer/*/*/\", recursive = True)[0].split('\\\\')[1:3]"
   ]
  }
 ],
 "metadata": {
  "kernelspec": {
   "display_name": "Python 3",
   "language": "python",
   "name": "python3"
  },
  "language_info": {
   "codemirror_mode": {
    "name": "ipython",
    "version": 3
   },
   "file_extension": ".py",
   "mimetype": "text/x-python",
   "name": "python",
   "nbconvert_exporter": "python",
   "pygments_lexer": "ipython3",
   "version": "3.10.0"
  }
 },
 "nbformat": 4,
 "nbformat_minor": 2
}
